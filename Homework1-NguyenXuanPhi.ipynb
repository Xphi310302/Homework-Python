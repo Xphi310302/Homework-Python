{
 "cells": [
  {
   "cell_type": "markdown",
   "metadata": {},
   "source": [
    "# **NGUYỄN XUÂN PHI**"
   ]
  },
  {
   "cell_type": "markdown",
   "metadata": {},
   "source": [
    "# **EXERCISE 1**\n",
    "Write a program to solve the quadratic equation :  ax2 + bx + c =  0  by doing the following things : \n",
    "- A. Ask user input from keyboard three integer a,b and c. If a is zero, user must input again\n",
    "- B. Calculate discriminant, check discriminant and require user input until discriminant >= 0\n",
    "- C. If discriminant  = 0 print the both same of solution. Otherwise, print two distinct solutions. \n"
   ]
  },
  {
   "cell_type": "code",
   "execution_count": 5,
   "metadata": {},
   "outputs": [],
   "source": [
    "import numpy as np"
   ]
  },
  {
   "cell_type": "code",
   "execution_count": 6,
   "metadata": {},
   "outputs": [
    {
     "name": "stdout",
     "output_type": "stream",
     "text": [
      "Quadratic Equation System Solver (ax2 + bx + c =  0)\n"
     ]
    }
   ],
   "source": [
    "print('Quadratic Equation System Solver (ax2 + bx + c =  0)')\n",
    "a = 0 # Create a = 0 \n",
    "delta = -1 # Create negative delta"
   ]
  },
  {
   "cell_type": "code",
   "execution_count": 7,
   "metadata": {},
   "outputs": [
    {
     "name": "stdin",
     "output_type": "stream",
     "text": [
      "Hi.Please input an integer a :  2\n",
      "Nice.Please input an integer b :  5\n",
      "Nice.Please input an integer c :  8\n"
     ]
    },
    {
     "name": "stdout",
     "output_type": "stream",
     "text": [
      "Because Discriminant = -39 ==> Sorry, your Quadratic Equation has no solution. Please reInput\n"
     ]
    },
    {
     "name": "stdin",
     "output_type": "stream",
     "text": [
      "Hi.Please input an integer a :  0\n"
     ]
    },
    {
     "name": "stdout",
     "output_type": "stream",
     "text": [
      "Sorry, you must input a is a not zero number\n"
     ]
    },
    {
     "name": "stdin",
     "output_type": "stream",
     "text": [
      "Hi.Please input an integer a :  1\n",
      "Nice.Please input an integer b :  -5\n",
      "Nice.Please input an integer c :  4\n"
     ]
    },
    {
     "name": "stdout",
     "output_type": "stream",
     "text": [
      "Checking ... your Quadratic Equation : 1x^2 + -5x + 4 = 0. Because Discriminant = 16 ==> Your equation has two distinct solutions x1 = 1.0 and x2 = 4.0\n"
     ]
    }
   ],
   "source": [
    "# a, b, c are legal when discriminate >= 0 and a != 0. If not, require user to input other a,b,c\n",
    "while a == 0 or delta < 0:\n",
    "    # Input a, b, c and check if they are legal. \n",
    "    a = eval(input('Hi.Please input an integer a : '))\n",
    "    if a == 0: \n",
    "        print('Sorry, you must input a is a not zero number')\n",
    "        continue\n",
    "    b = eval(input('Nice.Please input an integer b : '))\n",
    "    c = eval(input('Nice.Please input an integer c : '))  \n",
    "    # Calculate delta\n",
    "    delta = b**2 - 4*a*c\n",
    "    # Check if delta < 0 or not\n",
    "    if delta < 0:\n",
    "        print(f'Because Discriminant = {delta} ==> Sorry, your Quadratic Equation has no solution. Please reInput')\n",
    "# Calculate solutions\n",
    "x1 = (-b-np.sqrt(delta))/(2*a)\n",
    "x2 = (-b+np.sqrt(delta))/(2*a)\n",
    "# Print solutions \n",
    "if x1 != x2:\n",
    "    print(f'Checking ... your Quadratic Equation : {a}x^2 + {b}x + {c} = 0. Because Discriminant = 16 ==> Your equation has two distinct solutions x1 = {x1} and x2 = {x2}') \n",
    "else: \n",
    "    print(f'Checking ... your Quadratic Equation : {a}x^2 + {b}x + {c} = 0. Because Discriminant = 16 ==> Your equation has one solution x = {x1}')"
   ]
  },
  {
   "cell_type": "markdown",
   "metadata": {},
   "source": [
    "# **EXERCISE 2**\n",
    "Assign a List of your PlanList (For Example: Hiking at weekend, Swimming on Monday, etc) and your DateList (For Example: 15/05/2021, 30/06/2021) to take that plan. And then do the following things :\n",
    "- A. Create a DataFrame with DateList is Index and PlanList  is “Plan” Column\n",
    "- B. Seperate Plan Column into Action Colum (Hiking, Swimming) and Time Column (Weekend, Monday)\n",
    "- C. Input your hobby and your free month. Search the plan to meet your search\n",
    " "
   ]
  },
  {
   "cell_type": "code",
   "execution_count": 8,
   "metadata": {},
   "outputs": [],
   "source": [
    "import pandas as pd\n",
    "import numpy as np\n",
    "import datetime\n",
    "from IPython.core.interactiveshell import InteractiveShell\n",
    "InteractiveShell.ast_node_interactivity = \"all\""
   ]
  },
  {
   "cell_type": "code",
   "execution_count": 45,
   "metadata": {},
   "outputs": [],
   "source": [
    "PlanList = ['Hiking at Weekend', 'Swimming on Monday', 'Visiting museum on Friday', 'Playing games on Sunday', 'Hanging out on Thursday']\n",
    "DateList = ['15/05/2021', '28/06/2021', '16/07/2021', '30/05/2021', '03/06/2021']"
   ]
  },
  {
   "cell_type": "code",
   "execution_count": 46,
   "metadata": {},
   "outputs": [
    {
     "data": {
      "text/plain": [
       "[datetime.datetime(2021, 5, 15, 0, 0),\n",
       " datetime.datetime(2021, 6, 28, 0, 0),\n",
       " datetime.datetime(2021, 7, 16, 0, 0),\n",
       " datetime.datetime(2021, 5, 30, 0, 0),\n",
       " datetime.datetime(2021, 6, 3, 0, 0)]"
      ]
     },
     "execution_count": 46,
     "metadata": {},
     "output_type": "execute_result"
    }
   ],
   "source": [
    "# Convert Datelist from string to datetime\n",
    "DateEnrollList = []\n",
    "for days in DateList:\n",
    "    DateEnrollList.append(datetime.datetime.strptime(days, '%d/%m/%Y'))\n",
    "DateEnrollList"
   ]
  },
  {
   "cell_type": "code",
   "execution_count": 47,
   "metadata": {},
   "outputs": [
    {
     "name": "stdout",
     "output_type": "stream",
     "text": [
      "A. Create a DataFrame with DateList is Index and PlanList  is “Plan” Column\n"
     ]
    },
    {
     "data": {
      "text/html": [
       "<div>\n",
       "<style scoped>\n",
       "    .dataframe tbody tr th:only-of-type {\n",
       "        vertical-align: middle;\n",
       "    }\n",
       "\n",
       "    .dataframe tbody tr th {\n",
       "        vertical-align: top;\n",
       "    }\n",
       "\n",
       "    .dataframe thead th {\n",
       "        text-align: right;\n",
       "    }\n",
       "</style>\n",
       "<table border=\"1\" class=\"dataframe\">\n",
       "  <thead>\n",
       "    <tr style=\"text-align: right;\">\n",
       "      <th></th>\n",
       "      <th>Plan</th>\n",
       "    </tr>\n",
       "  </thead>\n",
       "  <tbody>\n",
       "    <tr>\n",
       "      <th>2021-05-15</th>\n",
       "      <td>Hiking at Weekend</td>\n",
       "    </tr>\n",
       "    <tr>\n",
       "      <th>2021-06-28</th>\n",
       "      <td>Swimming on Monday</td>\n",
       "    </tr>\n",
       "    <tr>\n",
       "      <th>2021-07-16</th>\n",
       "      <td>Visiting museum on Friday</td>\n",
       "    </tr>\n",
       "    <tr>\n",
       "      <th>2021-05-30</th>\n",
       "      <td>Playing games on Sunday</td>\n",
       "    </tr>\n",
       "    <tr>\n",
       "      <th>2021-06-03</th>\n",
       "      <td>Hanging out on Thursday</td>\n",
       "    </tr>\n",
       "  </tbody>\n",
       "</table>\n",
       "</div>"
      ],
      "text/plain": [
       "                                 Plan\n",
       "2021-05-15          Hiking at Weekend\n",
       "2021-06-28         Swimming on Monday\n",
       "2021-07-16  Visiting museum on Friday\n",
       "2021-05-30    Playing games on Sunday\n",
       "2021-06-03    Hanging out on Thursday"
      ]
     },
     "execution_count": 47,
     "metadata": {},
     "output_type": "execute_result"
    }
   ],
   "source": [
    "# Create dataframe with columns name Plan\n",
    "print('A. Create a DataFrame with DateList is Index and PlanList  is “Plan” Column')\n",
    "df = pd.DataFrame({'Plan':PlanList}, index = DateEnrollList)\n",
    "df"
   ]
  },
  {
   "cell_type": "code",
   "execution_count": 48,
   "metadata": {},
   "outputs": [
    {
     "name": "stdout",
     "output_type": "stream",
     "text": [
      "B. Seperate Plan Column into Action Colum (Hiking, Swimming) and Time Column (Weekend, Monday)\n",
      "Action: ['Hiking', 'Swimming', 'Visiting museum', 'Playing games', 'Hanging out']\n",
      "Time: ['Weekend', 'Monday', 'Friday', 'Sunday', 'Thursday']\n"
     ]
    }
   ],
   "source": [
    "print('B. Seperate Plan Column into Action Colum (Hiking, Swimming) and Time Column (Weekend, Monday)')\n",
    "# Divide PlanList into Action and Time\n",
    "# Create splitAction\n",
    "splitAction = [str.split(' ')[:-2] for str in PlanList]\n",
    "# Output: splitAction = [['Hiking'], ['Swimming'], ['Visiting', 'museum'], ['Playing', 'games'], ['Hanging', 'out']]\n",
    "# Join elemnts to create Action \n",
    "Action = [' '.join(str) for str in splitAction]\n",
    "# Create Time similarly to Action\n",
    "Time = [str.split(' ')[-1] for str in PlanList]\n",
    "print('Action:',Action)\n",
    "print('Time:',Time)"
   ]
  },
  {
   "cell_type": "code",
   "execution_count": 49,
   "metadata": {},
   "outputs": [
    {
     "data": {
      "text/html": [
       "<div>\n",
       "<style scoped>\n",
       "    .dataframe tbody tr th:only-of-type {\n",
       "        vertical-align: middle;\n",
       "    }\n",
       "\n",
       "    .dataframe tbody tr th {\n",
       "        vertical-align: top;\n",
       "    }\n",
       "\n",
       "    .dataframe thead th {\n",
       "        text-align: right;\n",
       "    }\n",
       "</style>\n",
       "<table border=\"1\" class=\"dataframe\">\n",
       "  <thead>\n",
       "    <tr style=\"text-align: right;\">\n",
       "      <th></th>\n",
       "      <th>Plan</th>\n",
       "      <th>Action</th>\n",
       "      <th>Time</th>\n",
       "    </tr>\n",
       "  </thead>\n",
       "  <tbody>\n",
       "    <tr>\n",
       "      <th>2021-05-15</th>\n",
       "      <td>Hiking at Weekend</td>\n",
       "      <td>Hiking</td>\n",
       "      <td>Weekend</td>\n",
       "    </tr>\n",
       "    <tr>\n",
       "      <th>2021-06-28</th>\n",
       "      <td>Swimming on Monday</td>\n",
       "      <td>Swimming</td>\n",
       "      <td>Monday</td>\n",
       "    </tr>\n",
       "    <tr>\n",
       "      <th>2021-07-16</th>\n",
       "      <td>Visiting museum on Friday</td>\n",
       "      <td>Visiting museum</td>\n",
       "      <td>Friday</td>\n",
       "    </tr>\n",
       "    <tr>\n",
       "      <th>2021-05-30</th>\n",
       "      <td>Playing games on Sunday</td>\n",
       "      <td>Playing games</td>\n",
       "      <td>Sunday</td>\n",
       "    </tr>\n",
       "    <tr>\n",
       "      <th>2021-06-03</th>\n",
       "      <td>Hanging out on Thursday</td>\n",
       "      <td>Hanging out</td>\n",
       "      <td>Thursday</td>\n",
       "    </tr>\n",
       "  </tbody>\n",
       "</table>\n",
       "</div>"
      ],
      "text/plain": [
       "                                 Plan           Action      Time\n",
       "2021-05-15          Hiking at Weekend           Hiking   Weekend\n",
       "2021-06-28         Swimming on Monday         Swimming    Monday\n",
       "2021-07-16  Visiting museum on Friday  Visiting museum    Friday\n",
       "2021-05-30    Playing games on Sunday    Playing games    Sunday\n",
       "2021-06-03    Hanging out on Thursday      Hanging out  Thursday"
      ]
     },
     "execution_count": 49,
     "metadata": {},
     "output_type": "execute_result"
    }
   ],
   "source": [
    "# Add Actione columns and time columns to Dataframe\n",
    "df['Action'] = Action\n",
    "df['Time'] = Time\n",
    "df"
   ]
  },
  {
   "cell_type": "code",
   "execution_count": 50,
   "metadata": {},
   "outputs": [
    {
     "name": "stdout",
     "output_type": "stream",
     "text": [
      "C. Input your hobby and your free month. Search the plan to meet your search\n",
      "Please input your Hobby: Eating\n",
      "Your hobby: Eating\n",
      "Sorry, you didn't plan to do that hobby! Do you wanna add it into your PlanList? Yes or No? \n",
      "Yes\n",
      "Which day of the week do you wanna set for Eating: Thursday\n",
      "You choose: Thursday\n",
      "Can you give me the exact day in day/month/year: 20/11/2021\n",
      "You choose: 20/11/2021\n",
      "******************************\n",
      "Please input your Hobby: Watching TV\n",
      "Your hobby: Watching TV\n",
      "Sorry, you didn't plan to do that hobby! Do you wanna add it into your PlanList? Yes or No? \n",
      "Yes\n",
      "Which day of the week do you wanna set for Watching TV: Friday\n",
      "You choose: Friday\n",
      "Can you give me the exact day in day/month/year: 31/3/2021\n",
      "You choose: 31/3/2021\n",
      "******************************\n",
      "Please input your Hobby: Watching TV\n",
      "Your hobby: Watching TV\n",
      "Congratulations,  your hobby in PlanList!\n",
      "Please input your free month:3\n",
      "Your free month: 3\n",
      "Plan meets your search:\n",
      "                             Plan       Action    Time\n",
      "2021-03-31  Watching TV on Friday  Watching TV  Friday\n"
     ]
    }
   ],
   "source": [
    "print('C. Input your hobby and your free month. Search the plan to meet your search')\n",
    "while True:\n",
    "  Hobby = input('Please input your Hobby: ') \n",
    "  print('Your hobby:', Hobby)\n",
    "    \n",
    "  # I want to add more feature that asks user whether they want to add new Action not in PlanList\n",
    "  # If hobby is not in PlanList, ask user to add information into PlanList if user want to\n",
    "  if Hobby not in df['Action'].values: \n",
    "    # Ask users if they wanna add more plan into their PlanList\n",
    "    print(\"Sorry, you didn't plan to do that hobby! Do you wanna add it into your PlanList? Yes or No? \")\n",
    "    opinion = input()\n",
    "    if opinion.lower() == 'yes': \n",
    "      new_date = input(f'Which day of the week do you wanna set for {Hobby}: ')\n",
    "      print('You choose:',new_date)\n",
    "      new_day = input(f'Can you give me the exact day in day/month/year: ')\n",
    "      print('You choose:', new_day)\n",
    "      print('*'*30)\n",
    "      Plan = f'{Hobby} on {new_date}'\n",
    "      # Add more plan into PlanList\n",
    "      df.loc[datetime.datetime.strptime(new_day, '%d/%m/%Y')] =  [Plan, Hobby, new_date]\n",
    "    else: continue\n",
    "        \n",
    "  # If hobby in PlanList\n",
    "  else:\n",
    "    print('Congratulations,  your hobby in PlanList!')\n",
    "    free_month = int(input('Please input your free month:'))\n",
    "    print('Your free month:', free_month)\n",
    "    # Display plan meeting their search\n",
    "    # filter1 is to look for the hobby\n",
    "    filter1 = df['Action']== Hobby\n",
    "    filter1 = filter1.values\n",
    "    # filter2 is to look for the free month\n",
    "    filter2 = (df.index.month == free_month)\n",
    "    recommend = df[filter1 & filter2]\n",
    "    if len(recommend) != 0:\n",
    "      print('Plan meets your search:')\n",
    "      print(recommend)\n",
    "    else: \n",
    "      print('Sorry, cannot find hobby meeting your search')\n",
    "    break"
   ]
  },
  {
   "cell_type": "code",
   "execution_count": 51,
   "metadata": {},
   "outputs": [
    {
     "data": {
      "text/html": [
       "<div>\n",
       "<style scoped>\n",
       "    .dataframe tbody tr th:only-of-type {\n",
       "        vertical-align: middle;\n",
       "    }\n",
       "\n",
       "    .dataframe tbody tr th {\n",
       "        vertical-align: top;\n",
       "    }\n",
       "\n",
       "    .dataframe thead th {\n",
       "        text-align: right;\n",
       "    }\n",
       "</style>\n",
       "<table border=\"1\" class=\"dataframe\">\n",
       "  <thead>\n",
       "    <tr style=\"text-align: right;\">\n",
       "      <th></th>\n",
       "      <th>Plan</th>\n",
       "      <th>Action</th>\n",
       "      <th>Time</th>\n",
       "    </tr>\n",
       "  </thead>\n",
       "  <tbody>\n",
       "    <tr>\n",
       "      <th>2021-05-15</th>\n",
       "      <td>Hiking at Weekend</td>\n",
       "      <td>Hiking</td>\n",
       "      <td>Weekend</td>\n",
       "    </tr>\n",
       "    <tr>\n",
       "      <th>2021-06-28</th>\n",
       "      <td>Swimming on Monday</td>\n",
       "      <td>Swimming</td>\n",
       "      <td>Monday</td>\n",
       "    </tr>\n",
       "    <tr>\n",
       "      <th>2021-07-16</th>\n",
       "      <td>Visiting museum on Friday</td>\n",
       "      <td>Visiting museum</td>\n",
       "      <td>Friday</td>\n",
       "    </tr>\n",
       "    <tr>\n",
       "      <th>2021-05-30</th>\n",
       "      <td>Playing games on Sunday</td>\n",
       "      <td>Playing games</td>\n",
       "      <td>Sunday</td>\n",
       "    </tr>\n",
       "    <tr>\n",
       "      <th>2021-06-03</th>\n",
       "      <td>Hanging out on Thursday</td>\n",
       "      <td>Hanging out</td>\n",
       "      <td>Thursday</td>\n",
       "    </tr>\n",
       "    <tr>\n",
       "      <th>2021-11-20</th>\n",
       "      <td>Eating on Thursday</td>\n",
       "      <td>Eating</td>\n",
       "      <td>Thursday</td>\n",
       "    </tr>\n",
       "    <tr>\n",
       "      <th>2021-03-31</th>\n",
       "      <td>Watching TV on Friday</td>\n",
       "      <td>Watching TV</td>\n",
       "      <td>Friday</td>\n",
       "    </tr>\n",
       "  </tbody>\n",
       "</table>\n",
       "</div>"
      ],
      "text/plain": [
       "                                 Plan           Action      Time\n",
       "2021-05-15          Hiking at Weekend           Hiking   Weekend\n",
       "2021-06-28         Swimming on Monday         Swimming    Monday\n",
       "2021-07-16  Visiting museum on Friday  Visiting museum    Friday\n",
       "2021-05-30    Playing games on Sunday    Playing games    Sunday\n",
       "2021-06-03    Hanging out on Thursday      Hanging out  Thursday\n",
       "2021-11-20         Eating on Thursday           Eating  Thursday\n",
       "2021-03-31      Watching TV on Friday      Watching TV    Friday"
      ]
     },
     "execution_count": 51,
     "metadata": {},
     "output_type": "execute_result"
    }
   ],
   "source": [
    "df"
   ]
  },
  {
   "cell_type": "markdown",
   "metadata": {},
   "source": [
    "# **EXERCISE 3**\n",
    "Write a chatbot program to do the following things \n",
    "\n",
    "- A. Asks customer information about Name, BirthDate, and Gender. Customer answers must have “my name is” , “my birthdate is” and “my gender is” in their reponse. If not, the chatbot will ask repeatedly until it received exact information. \n",
    "- B. After finish collecting information. Chatbot will show the profile of customer\n"
   ]
  },
  {
   "cell_type": "code",
   "execution_count": 52,
   "metadata": {},
   "outputs": [
    {
     "name": "stdout",
     "output_type": "stream",
     "text": [
      "Welcome! I am a chatbot. I need to ask some of your information to make your profile\n",
      "**************************************************\n",
      "Chatbot : What is your name ? (Note: Your answer must have \"my name is\")\n",
      "User: My name is Xuan Phi\n",
      "Chatbot: Okie. Noted. Your answer is Xuan Phi\n",
      "Chatbot : What is your birthdate ? (Note: Your answer must have \"my birthdate is\")\n",
      "User: My birthdate is 31/3/2002\n",
      "Okie. Noted. Your answer is 31/3/2002\n",
      "Chatbot : What is your gender ? (Note: Your answer must have \"my gender is\")\n",
      "User: My gender is Male\n",
      "Okie. Noted. Your answer is Male\n"
     ]
    }
   ],
   "source": [
    "print('Welcome! I am a chatbot. I need to ask some of your information to make your profile')\n",
    "print('*'*50)\n",
    "print('Chatbot : What is your name ? (Note: Your answer must have \"my name is\")')\n",
    "\n",
    "# Input name\n",
    "name = input('User: ')\n",
    "# Check if the user's answer is legal\n",
    "while 'my name is' not in name.lower():\n",
    "    print('Chatbot: Sorry you should answer with term \"my name is\"')\n",
    "    name = input('User: ')\n",
    "name = name.split('is ')[-1]\n",
    "print('Chatbot: Okie. Noted. Your answer is', name)\n",
    "\n",
    "# Input birthday\n",
    "print('Chatbot : What is your birthdate ? (Note: Your answer must have \"my birthdate is\")')\n",
    "birth = input('User: ')\n",
    "# Check if the user's answer is legal\n",
    "while 'my birthdate is' not in birth.lower():\n",
    "    print('Sorry you should answer with term \"my birthdate is\"')\n",
    "    birth = input('User: ')\n",
    "birth = birth.split('is ')[-1]\n",
    "print('Okie. Noted. Your answer is', birth)\n",
    "\n",
    "#Input gender\n",
    "print('Chatbot : What is your gender ? (Note: Your answer must have \"my gender is\")')\n",
    "gender = input('User: ')\n",
    "# Check if the user's answer is legal\n",
    "while 'my gender is' not in gender.lower():\n",
    "    print('Sorry you should answer with term \"my birthdate is\"')\n",
    "    gender = input('User: ')\n",
    "gender = gender.split('is ')[-1]\n",
    "print('Okie. Noted. Your answer is', gender)"
   ]
  },
  {
   "cell_type": "code",
   "execution_count": 53,
   "metadata": {},
   "outputs": [
    {
     "name": "stdout",
     "output_type": "stream",
     "text": [
      "Thank you for your support. Your profile is complete:\n",
      "{'Name': 'Xuan Phi', 'BirthDate': '31/3/2002', 'Gender': 'Male'}\n",
      "**************************************************\n"
     ]
    }
   ],
   "source": [
    "# info dict contains user's information\n",
    "info = {'Name':name, 'BirthDate':birth, 'Gender':gender}\n",
    "# Print user's information\n",
    "print('Thank you for your support. Your profile is complete:')\n",
    "print(info)\n",
    "print('*'*50)"
   ]
  },
  {
   "cell_type": "code",
   "execution_count": null,
   "metadata": {},
   "outputs": [],
   "source": []
  }
 ],
 "metadata": {
  "interpreter": {
   "hash": "7bc78af0be74355d90d32d4ffa46f31c4df22e3ef37363bd9cdef37e42c70ae9"
  },
  "kernelspec": {
   "display_name": "Python 3 (ipykernel)",
   "language": "python",
   "name": "python3"
  },
  "language_info": {
   "codemirror_mode": {
    "name": "ipython",
    "version": 3
   },
   "file_extension": ".py",
   "mimetype": "text/x-python",
   "name": "python",
   "nbconvert_exporter": "python",
   "pygments_lexer": "ipython3",
   "version": "3.8.3"
  }
 },
 "nbformat": 4,
 "nbformat_minor": 4
}
